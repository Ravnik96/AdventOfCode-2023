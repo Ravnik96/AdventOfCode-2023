{
 "cells": [
  {
   "cell_type": "code",
   "execution_count": 1,
   "metadata": {},
   "outputs": [
    {
     "name": "stdout",
     "output_type": "stream",
     "text": [
      "Part 1: 54597  Part 2: 54504\n"
     ]
    }
   ],
   "source": [
    "dct = {\"one\":1, \"two\":2, \"three\":3, \"four\":4, \"five\":5, \"six\":6, \"seven\":7, \"eight\":8, \"nine\":9}\n",
    "score_part1 = 0\n",
    "score_part2 = 0\n",
    "for line in open(\"data.txt\"):\n",
    "    rem = {}\n",
    "    line = line.strip()\n",
    "    for ix, i in enumerate(line):\n",
    "        if i.isdigit():\n",
    "            rem[ix] = i\n",
    "\n",
    "    score_part1 += (int(rem[min(rem.keys())]+ rem[max(rem.keys())]))\n",
    "    \n",
    "\n",
    "    for i in dct:\n",
    "        n = line.find(i)\n",
    "        if n != -1:\n",
    "            rem[n] = str(dct[i])\n",
    "    for i in dct:\n",
    "        n = line.rfind(i)\n",
    "        if n != -1:\n",
    "            rem[n] = str(dct[i])\n",
    "    \n",
    "    score_part2 += (int(rem[min(rem.keys())]+ rem[max(rem.keys())]))\n",
    "print(\"Part 1:\", score_part1, \" Part 2:\", score_part2)"
   ]
  }
 ],
 "metadata": {
  "kernelspec": {
   "display_name": "Python 3",
   "language": "python",
   "name": "python3"
  },
  "language_info": {
   "codemirror_mode": {
    "name": "ipython",
    "version": 3
   },
   "file_extension": ".py",
   "mimetype": "text/x-python",
   "name": "python",
   "nbconvert_exporter": "python",
   "pygments_lexer": "ipython3",
   "version": "3.10.11"
  }
 },
 "nbformat": 4,
 "nbformat_minor": 2
}
