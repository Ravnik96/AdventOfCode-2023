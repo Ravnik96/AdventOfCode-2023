{
 "cells": [
  {
   "cell_type": "code",
   "execution_count": 2,
   "metadata": {},
   "outputs": [
    {
     "name": "stdout",
     "output_type": "stream",
     "text": [
      "Score part 1: 9805264 Score part 2: 779032247216\n"
     ]
    }
   ],
   "source": [
    "from collections import Counter\n",
    "import numpy as np\n",
    "\n",
    "data = []\n",
    "galaxy_positions = []\n",
    "\n",
    "for dx, line in enumerate(open(\"data.txt\")):\n",
    "    data.append([x for x in line.strip()])\n",
    "    galaxy_positions.extend([(dx,dy) for dy,x in enumerate(line.strip()) if x==\"#\"])\n",
    "\n",
    "emp_r = []\n",
    "for ix, i in enumerate(data): \n",
    "    if len(i) == Counter(i)[\".\"]:\n",
    "        emp_r.append(ix)\n",
    "\n",
    "emp_c = []\n",
    "for iy, i in enumerate(np.array(data).T): \n",
    "    if len(i) == Counter(i)[\".\"]:\n",
    "        emp_c.append(iy)\n",
    "\n",
    "def universe_expansion(amount_of_expansion):\n",
    "    score = 0\n",
    "    for ix, p in enumerate(galaxy_positions):\n",
    "        for p2 in galaxy_positions[ix+1:]:\n",
    "            cnt = 0\n",
    "            for x in emp_r:\n",
    "                if min(p[0], p2[0]) < x < max(p[0], p2[0]):\n",
    "                    cnt += 1\n",
    "            for y in emp_c:\n",
    "                if min(p[1], p2[1]) < y < max(p[1], p2[1]):\n",
    "                    cnt += 1\n",
    "            score += (abs(p[0] - p2[0])+abs(p[1]- p2[1])) + (cnt * (amount_of_expansion - 1))\n",
    "    return score\n",
    "\n",
    "\n",
    "print(\"Score part 1:\", universe_expansion(amount_of_expansion=2), \"Score part 2:\", universe_expansion(amount_of_expansion=1000000))"
   ]
  }
 ],
 "metadata": {
  "kernelspec": {
   "display_name": "Python 3",
   "language": "python",
   "name": "python3"
  },
  "language_info": {
   "codemirror_mode": {
    "name": "ipython",
    "version": 3
   },
   "file_extension": ".py",
   "mimetype": "text/x-python",
   "name": "python",
   "nbconvert_exporter": "python",
   "pygments_lexer": "ipython3",
   "version": "3.10.11"
  }
 },
 "nbformat": 4,
 "nbformat_minor": 2
}
