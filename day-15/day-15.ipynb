{
 "cells": [
  {
   "cell_type": "code",
   "execution_count": 28,
   "metadata": {},
   "outputs": [
    {
     "name": "stdout",
     "output_type": "stream",
     "text": [
      "Results part 1: 513214\n",
      "Results part 2: 258826\n"
     ]
    }
   ],
   "source": [
    "for line in open(\"data.txt\"):\n",
    "    data = line.strip().split(\",\")\n",
    "\n",
    "# Part 1\n",
    "score_part_1 = 0\n",
    "\n",
    "for code in data:\n",
    "    temp_score = 0\n",
    "    for let in code:\n",
    "        temp_score += ord(let)\n",
    "        temp_score = (temp_score*17)%256\n",
    "    score_part_1 += temp_score\n",
    "    \n",
    "print(\"Results part 1:\",score_part_1)\n",
    "\n",
    "# part 2\n",
    "dct = {}\n",
    "for i in range(0,256):\n",
    "    dct[i]= []\n",
    "\n",
    "for code in data:\n",
    "    temp_score = 0\n",
    "    i = 0\n",
    "    while code[i] not in [\"=\", \"-\"]:\n",
    "        temp_score += ord(code[i])\n",
    "        temp_score = (temp_score*17)%256\n",
    "        i += 1\n",
    "    if code[-1] == \"-\":\n",
    "        new_val = []\n",
    "        for val in dct[temp_score]:\n",
    "            if val[0] != code[:-1]:\n",
    "                new_val.append(val)\n",
    "        dct[temp_score] = new_val\n",
    "    else:\n",
    "        lab, num = code.split(\"=\")\n",
    "        num = int(num)\n",
    "        is_in = False\n",
    "        for val in dct[temp_score]:\n",
    "            if val[0] == lab:\n",
    "                is_in = True\n",
    "                break\n",
    "        if is_in:\n",
    "            new_val = []\n",
    "            for val in dct[temp_score]:\n",
    "                if val[0] != lab:\n",
    "                    new_val.append(val)\n",
    "                else:\n",
    "                    new_val.append((lab, num))\n",
    "            dct[temp_score] = new_val\n",
    "        else:\n",
    "            dct[temp_score].append((lab, num))\n",
    "            \n",
    "score_part_2 =0\n",
    "\n",
    "for key in dct:\n",
    "    for ix, lens in enumerate(dct[key]):\n",
    "        score_part_2 += ((key+1) * (ix+1) * lens[1])\n",
    "\n",
    "print(\"Results part 2:\",score_part_2)"
   ]
  }
 ],
 "metadata": {
  "kernelspec": {
   "display_name": "Python 3",
   "language": "python",
   "name": "python3"
  },
  "language_info": {
   "codemirror_mode": {
    "name": "ipython",
    "version": 3
   },
   "file_extension": ".py",
   "mimetype": "text/x-python",
   "name": "python",
   "nbconvert_exporter": "python",
   "pygments_lexer": "ipython3",
   "version": "3.10.11"
  }
 },
 "nbformat": 4,
 "nbformat_minor": 2
}
