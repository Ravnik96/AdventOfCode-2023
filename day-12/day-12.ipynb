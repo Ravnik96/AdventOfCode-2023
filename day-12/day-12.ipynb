{
 "cells": [
  {
   "cell_type": "code",
   "execution_count": 27,
   "metadata": {},
   "outputs": [
    {
     "data": {
      "text/plain": [
       "7350"
      ]
     },
     "execution_count": 27,
     "metadata": {},
     "output_type": "execute_result"
    }
   ],
   "source": [
    "from collections import Counter\n",
    "from more_itertools import distinct_permutations\n",
    "data = []\n",
    "\n",
    "for line in open(\"data.txt\"):\n",
    "    springs, numbers = line.strip().split()\n",
    "    data.append((springs, [int(x) for x in numbers.split(\",\")]))\n",
    "\n",
    "def calculator(string, output):\n",
    "    res = Counter(string)\n",
    "\n",
    "    rep_hash = sum(output)-res[\"#\"]\n",
    "    rep_dot = res[\"?\"] - rep_hash\n",
    "    symbols = [\".\"]*rep_dot+[\"#\"]*rep_hash\n",
    "    options = distinct_permutations(symbols, r=len(symbols))\n",
    "    cnt = 0\n",
    "    for opt in set(options):\n",
    "        new_string = string\n",
    "        for char in opt:\n",
    "            new_string = new_string.replace('?', char, 1)\n",
    "        result = [len(x) for x in new_string.split(\".\") if x != \"\"]\n",
    "        if result == output:\n",
    "            cnt += 1\n",
    "    return cnt\n",
    "\n",
    "counter = 0\n",
    "for ix, dat in enumerate(data):\n",
    "    counter += calculator(dat[0], dat[1])\n",
    "counter\n"
   ]
  },
  {
   "cell_type": "code",
   "execution_count": 30,
   "metadata": {},
   "outputs": [
    {
     "name": "stdout",
     "output_type": "stream",
     "text": [
      "200097286528151\n"
     ]
    }
   ],
   "source": [
    "### DIDN'T KNOW THE METHOD TO SOLVE PART 2 SO I REWROTE ONE FROM INTERNET\n",
    "\n",
    "data = []\n",
    "for line in open(\"data.txt\"):\n",
    "    springs, numbers = line.strip().split()\n",
    "    data.append((springs, [int(x) for x in numbers.split(\",\")]))\n",
    "\n",
    "DP = {}\n",
    "def solve(pattern, numbers, pos, pos_num, current):\n",
    "  key = (pos,pos_num,current)\n",
    "  if key in DP:\n",
    "    return DP[key]\n",
    "  if pos == len(pattern):\n",
    "     if pos_num == len(numbers) and current == 0:\n",
    "        return 1\n",
    "     elif pos_num == len(numbers)-1 and numbers[pos_num] == current:\n",
    "        return 1\n",
    "     else:\n",
    "        return 0\n",
    "  \n",
    "  result = 0\n",
    "  for l in [\".\",\"#\"]:\n",
    "     if pattern[pos] == l or pattern[pos] == \"?\":\n",
    "        if l==\".\" and current==0:\n",
    "           result += solve(pattern, numbers, pos+1, pos_num, 0)\n",
    "        elif l == \".\" and current>0 and pos_num<len(numbers) and numbers[pos_num] == current:\n",
    "           result += solve(pattern, numbers, pos+1, pos_num+1, 0)\n",
    "        elif l == \"#\":\n",
    "           result += solve(pattern, numbers, pos+1, pos_num, current + 1)\n",
    "  DP[key] = result\n",
    "  return result\n",
    "           \n",
    "\n",
    "\n",
    "result_part2 = 0\n",
    "for d in data:\n",
    "  pattern,numbers = d\n",
    "  pattern = '?'.join([pattern]*5)\n",
    "  numbers = numbers*5\n",
    "  DP.clear()\n",
    "  score = solve(pattern, numbers, 0, 0, 0)\n",
    "  result_part2 += score\n",
    "print(result_part2)"
   ]
  }
 ],
 "metadata": {
  "kernelspec": {
   "display_name": "Python 3",
   "language": "python",
   "name": "python3"
  },
  "language_info": {
   "codemirror_mode": {
    "name": "ipython",
    "version": 3
   },
   "file_extension": ".py",
   "mimetype": "text/x-python",
   "name": "python",
   "nbconvert_exporter": "python",
   "pygments_lexer": "ipython3",
   "version": "3.10.11"
  }
 },
 "nbformat": 4,
 "nbformat_minor": 2
}
