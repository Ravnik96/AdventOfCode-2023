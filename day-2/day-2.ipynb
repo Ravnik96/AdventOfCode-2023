{
 "cells": [
  {
   "cell_type": "code",
   "execution_count": 2,
   "metadata": {},
   "outputs": [
    {
     "name": "stdout",
     "output_type": "stream",
     "text": [
      "Part 1: 2076  Part 2: 70950\n"
     ]
    }
   ],
   "source": [
    "score_part1 = 0\n",
    "score_part2 = 0\n",
    "\n",
    "for line in open(\"data.txt\"):\n",
    "    line = line.strip()\n",
    "    ids, cubes = line.split(\":\")\n",
    "    ids = int(ids.split()[1])\n",
    "    cubes = cubes.split(\";\")\n",
    "    g,b,r = 0,0,0\n",
    "    for i in cubes:\n",
    "        for j in i.split(\",\"):\n",
    "            if \"green\" in j:\n",
    "                num = int(j.split()[0])\n",
    "                g = max(num, g)\n",
    "            elif \"blue\" in j:\n",
    "                num = int(j.split()[0])\n",
    "                b = max(num, b)\n",
    "            elif \"red\" in j:\n",
    "                num = int(j.split()[0])\n",
    "                r = max(num, r)\n",
    "    \n",
    "    if r <= 12 and b <= 14 and g <= 13:\n",
    "        score_part1 += ids\n",
    "    score_part2 += (r*b*g)\n",
    "print(\"Part 1:\", score_part1, \" Part 2:\", score_part2)"
   ]
  }
 ],
 "metadata": {
  "kernelspec": {
   "display_name": "Python 3",
   "language": "python",
   "name": "python3"
  },
  "language_info": {
   "codemirror_mode": {
    "name": "ipython",
    "version": 3
   },
   "file_extension": ".py",
   "mimetype": "text/x-python",
   "name": "python",
   "nbconvert_exporter": "python",
   "pygments_lexer": "ipython3",
   "version": "3.10.11"
  }
 },
 "nbformat": 4,
 "nbformat_minor": 2
}
