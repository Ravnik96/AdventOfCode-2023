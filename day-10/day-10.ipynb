{
 "cells": [
  {
   "cell_type": "code",
   "execution_count": 160,
   "metadata": {},
   "outputs": [
    {
     "name": "stdout",
     "output_type": "stream",
     "text": [
      "Result part 1: 6599\n",
      "Result part 2: 477\n"
     ]
    }
   ],
   "source": [
    "from collections import deque, Counter\n",
    "\n",
    "data = []\n",
    "for line in open(\"data.txt\"):\n",
    "    data.append([x for x in line.strip()])\n",
    "\n",
    "# PART 1\n",
    "dct = {(-1,0): [\"7\", \"|\", \"F\"], (1,0): [\"L\", \"|\", \"J\"], (0,1): [\"-\", \"7\", \"J\"], (0,-1): [\"L\", \"-\", \"F\"]}\n",
    "\n",
    "for i in range((len(data))):\n",
    "    for j in range(len(data[i])):\n",
    "        if data[i][j] ==\"S\":\n",
    "            start_loc = (i,j)\n",
    "\n",
    "start = deque([(start_loc, 0, set())])\n",
    "\n",
    "R = len(data)\n",
    "C = len(data[0])\n",
    "\n",
    "while True:\n",
    "    if len(start) == 0: # To account for getting to start again\n",
    "        seen.add(start_loc)\n",
    "        print(\"Result part 1:\",(dist+1)//2)\n",
    "        break\n",
    "    loc, dist, seen = start.popleft()\n",
    "\n",
    "    counter = 0\n",
    "    for shift in dct.keys():\n",
    "        dx = loc[0] + shift[0]\n",
    "        dy = loc[1] + shift[1]\n",
    "        if dist == 0 and dx == 27 and dy == 31:\n",
    "            continue\n",
    "        elif 0<= dx < R and 0<= dy < C and (dx,dy) not in seen and data[dx][dy] in dct[shift]:\n",
    "            new_seen = seen.copy() # copy makes it slow but we need only loop values in set (no dead ends)\n",
    "            new_seen.add((dx,dy))\n",
    "            start.append(((dx,dy), dist+1, new_seen))\n",
    "\n",
    "# PART 2\n",
    "# change all non loop values to .\n",
    "data_part2 = data.copy()\n",
    "for i in range(R):\n",
    "    for j in range(C):\n",
    "        if (i,j) not in seen:\n",
    "            data_part2[i][j] = \".\"\n",
    "\n",
    "# flood from outside\n",
    "SEEN = set()\n",
    "st = [(0,0)]\n",
    "while st:\n",
    "    x, y = st.pop()\n",
    "    if (x,y) not in SEEN:\n",
    "        SEEN.add((x,y))\n",
    "    else:\n",
    "        continue\n",
    "    for dx,dy in [(0,1),(0,-1),(1,0),(-1,0)]:\n",
    "        xn = x + dx\n",
    "        yn = y + dy\n",
    "        if 0 <= xn < R and 0<=yn< C and (xn, yn) not in seen and data_part2[xn][yn] == \".\":\n",
    "            st.append((xn, yn))\n",
    "\n",
    "# Change S to \"|\"\n",
    "data_part2[start_loc[0]][start_loc[1]] = \"|\"\n",
    "\n",
    "score_part2 = 0\n",
    "for i in range(R):\n",
    "    for j in range(C):\n",
    "        if data_part2[i][j] == \".\" and (i,j) not in seen and (i,j) not in SEEN:\n",
    "            res_counter = Counter(data_part2[i][:j])\n",
    "            counts = (sum([res_counter[\"|\"], res_counter[\"J\"], res_counter[\"L\"]]))\n",
    "            if counts%2 != 0:\n",
    "                score_part2 += 1\n",
    "\n",
    "print(\"Result part 2:\",score_part2)\n"
   ]
  }
 ],
 "metadata": {
  "kernelspec": {
   "display_name": "Python 3",
   "language": "python",
   "name": "python3"
  },
  "language_info": {
   "codemirror_mode": {
    "name": "ipython",
    "version": 3
   },
   "file_extension": ".py",
   "mimetype": "text/x-python",
   "name": "python",
   "nbconvert_exporter": "python",
   "pygments_lexer": "ipython3",
   "version": "3.10.11"
  }
 },
 "nbformat": 4,
 "nbformat_minor": 2
}
