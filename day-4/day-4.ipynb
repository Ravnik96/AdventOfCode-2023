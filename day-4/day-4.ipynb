{
 "cells": [
  {
   "cell_type": "code",
   "execution_count": 9,
   "metadata": {},
   "outputs": [
    {
     "name": "stdout",
     "output_type": "stream",
     "text": [
      "Part 1: 20407 Part 2: 23806951\n"
     ]
    }
   ],
   "source": [
    "score_part1 = 0\n",
    "score_part2 = 0\n",
    "dct_part2 = {}\n",
    "for line in open(\"data.txt\"):\n",
    "    num, line = line.strip().split(\":\")\n",
    "    num = int(num.split()[1])\n",
    "    win_nums, your_nums = line.split(\"|\")\n",
    "    win_nums = win_nums.split()\n",
    "    your_nums = your_nums.split()\n",
    "    res = [x for x in win_nums if x in your_nums]\n",
    "\n",
    "    if len(res) > 0:\n",
    "        value_temp = 1\n",
    "        value_final = 0\n",
    "        for cnt in range(len(res)):\n",
    "            if cnt <= 1:\n",
    "                value_final += value_temp\n",
    "            else:\n",
    "                value_temp *= 2\n",
    "                value_final += value_temp\n",
    "        score_part1 += value_final\n",
    "\n",
    "    dct_part2[num] = {\"n\":1, \"matches\":len(res)}\n",
    "    \n",
    "# Part 2\n",
    "for key, val in dct_part2.items():\n",
    "    score_part2 += val[\"n\"]\n",
    "    for i in range(val[\"matches\"]):\n",
    "        dct_part2[key+i+1][\"n\"] += val[\"n\"]\n",
    "\n",
    "print(\"Part 1:\",score_part1, \"Part 2:\",score_part2)"
   ]
  }
 ],
 "metadata": {
  "kernelspec": {
   "display_name": "Python 3",
   "language": "python",
   "name": "python3"
  },
  "language_info": {
   "codemirror_mode": {
    "name": "ipython",
    "version": 3
   },
   "file_extension": ".py",
   "mimetype": "text/x-python",
   "name": "python",
   "nbconvert_exporter": "python",
   "pygments_lexer": "ipython3",
   "version": "3.10.11"
  }
 },
 "nbformat": 4,
 "nbformat_minor": 2
}
