{
 "cells": [
  {
   "cell_type": "code",
   "execution_count": 121,
   "metadata": {},
   "outputs": [
    {
     "name": "stdout",
     "output_type": "stream",
     "text": [
      "Result part 1: 7185\n",
      "Result part 2: 7616\n"
     ]
    }
   ],
   "source": [
    "from collections import deque\n",
    "\n",
    "data = []\n",
    "for line in open(\"data.txt\"):\n",
    "    data.append([x for x in line.strip()])\n",
    "\n",
    "changes = {}\n",
    "changes[(0,1, \"\\\\\")] = [(1,0)]\n",
    "changes[(0,1, \"/\")] = [(-1,0)]\n",
    "changes[(0,1, \"|\")] = [(-1,0), (1,0)]\n",
    "changes[(0,1, \"-\")] = [(0, 1)]\n",
    "\n",
    "changes[(0,-1, \"\\\\\")] = [(-1,0)]\n",
    "changes[(0,-1, \"/\")] = [(1,0)]\n",
    "changes[(0,-1, \"|\")] = [(-1,0), (1,0)]\n",
    "changes[(0,-1, \"-\")] = [(0, -1)]\n",
    "\n",
    "changes[(-1, 0, \"\\\\\")] = [(0, -1)]\n",
    "changes[(-1, 0, \"/\")] = [(0, 1)]\n",
    "changes[(-1, 0, \"|\")] = [(-1,0)]\n",
    "changes[(-1, 0, \"-\")] = [(0,-1), (0,1)]\n",
    "\n",
    "changes[(1, 0, \"\\\\\")] = [(0, 1)]\n",
    "changes[(1, 0, \"/\")] = [(0, -1)]\n",
    "changes[(1, 0, \"|\")] = [(1,0)]\n",
    "changes[(1, 0, \"-\")] = [(0,-1), (0,1)]\n",
    "\n",
    "def solve(st_x, st_y, dir_x, dir_y):\n",
    "    start = deque([((st_x,st_y),(dir_x,dir_y))])\n",
    "    R = len(data)\n",
    "    C = len(data[0])\n",
    "\n",
    "    seen = set()\n",
    "    seen2 = set()\n",
    "    while start:\n",
    "        pos, dr = start.popleft()\n",
    "\n",
    "        if pos not in seen and 0 <= pos[0] < R and 0 <= pos[1] < C:\n",
    "            seen.add(pos)\n",
    "        if (pos, dr) not in seen2:\n",
    "            seen2.add((pos, dr))\n",
    "        else:\n",
    "            continue\n",
    "\n",
    "        new_pos = (pos[0]+dr[0], pos[1]+dr[1])\n",
    "\n",
    "        if 0 <= new_pos[0] < R and 0 <= new_pos[1] < C and data[new_pos[0]][new_pos[1]] == '.':\n",
    "            start.append((new_pos, dr))\n",
    "        elif 0 <= new_pos[0] < R and 0 <= new_pos[1] < C:\n",
    "            for move in changes[(dr[0], dr[1], data[new_pos[0]][new_pos[1]])]:\n",
    "                start.append((new_pos, move))\n",
    "                \n",
    "    return (len(seen))\n",
    "\n",
    "print(\"Result part 1:\", solve(0,-1,0,1))\n",
    "\n",
    "# Part 2\n",
    "part_2 = 0\n",
    "for x in range(len(data)):\n",
    "    part_2 = max(part_2, solve(x, -1, 0, 1))\n",
    "    part_2 = max(part_2, solve(x, len(data[0]), 0, -1))\n",
    "for y in range(len(data[0])):\n",
    "    part_2 = max(part_2, solve(-1, y, 1, 0))\n",
    "    part_2 = max(part_2, solve(len(data), y, -1, 0))\n",
    "\n",
    "print(\"Result part 2:\",part_2)"
   ]
  }
 ],
 "metadata": {
  "kernelspec": {
   "display_name": "Python 3",
   "language": "python",
   "name": "python3"
  },
  "language_info": {
   "codemirror_mode": {
    "name": "ipython",
    "version": 3
   },
   "file_extension": ".py",
   "mimetype": "text/x-python",
   "name": "python",
   "nbconvert_exporter": "python",
   "pygments_lexer": "ipython3",
   "version": "3.10.11"
  }
 },
 "nbformat": 4,
 "nbformat_minor": 2
}
