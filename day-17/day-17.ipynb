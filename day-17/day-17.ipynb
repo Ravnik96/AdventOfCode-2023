{
 "cells": [
  {
   "cell_type": "code",
   "execution_count": 5,
   "metadata": {},
   "outputs": [
    {
     "name": "stdout",
     "output_type": "stream",
     "text": [
      "Result part 1: 916\n",
      "Result part 2: 1067\n"
     ]
    }
   ],
   "source": [
    "import heapq\n",
    "data = [[int(x) for x in line.strip()] for line in open(\"data.txt\") ]\n",
    "R = len(data)\n",
    "C = len(data[0])\n",
    "\n",
    "# Part 1 \n",
    "start = [(0,(0,0),(0,1),1)]\n",
    "seen = {}\n",
    "while start:\n",
    "    cost, (x, y), (dir_x, dir_y), same_dir = heapq.heappop(start)\n",
    "    if (x,y) == (R-1, C-1):\n",
    "        print(\"Result part 1:\",cost)\n",
    "        break\n",
    "    if (x,y,dir_x, dir_y, same_dir) in seen:\n",
    "        continue\n",
    "    seen[(x,y,dir_x, dir_y, same_dir)] = cost\n",
    "\n",
    "    if same_dir <3:\n",
    "        new_x = x + dir_x\n",
    "        new_y = y + dir_y\n",
    "        if 0 <= new_x < R and 0 <= new_y < C:\n",
    "            to_add = data[new_x][new_y]\n",
    "            heapq.heappush(start,[cost + to_add, (new_x, new_y), (dir_x, dir_y), same_dir+1])\n",
    "    for new_dir_x, new_dir_y in [(-dir_y, dir_x), (dir_y, -dir_x)]:\n",
    "        # print((new_dir_x, new_dir_y), (dir_x,dir_y))\n",
    "        new_x = x + new_dir_x\n",
    "        new_y = y + new_dir_y\n",
    "        if 0 <= new_x < R and 0 <= new_y < C:\n",
    "            to_add = data[new_x][new_y]\n",
    "            heapq.heappush(start,[cost + to_add, (new_x, new_y), (new_dir_x, new_dir_y), 1])\n",
    "\n",
    "# Part 2\n",
    "start = [(0,(0,0),(0,1),1)]\n",
    "seen = {}\n",
    "while start:\n",
    "    cost, (x, y), (dir_x, dir_y), same_dir = heapq.heappop(start)\n",
    "    if (x,y) == (R-1, C-1) and same_dir >= 4: # you need to move at least 4 in same direction before finish\n",
    "        print(\"Result part 2:\", cost)\n",
    "        break\n",
    "    if (x,y,dir_x, dir_y, same_dir) in seen:\n",
    "        continue\n",
    "    seen[(x,y,dir_x, dir_y, same_dir)] = cost\n",
    "\n",
    "    if same_dir <4:\n",
    "        new_x = x + dir_x\n",
    "        new_y = y + dir_y\n",
    "        if 0 <= new_x < R and 0 <= new_y < C:\n",
    "            to_add = data[new_x][new_y]\n",
    "            heapq.heappush(start,[cost + to_add, (new_x, new_y), (dir_x, dir_y), same_dir+1])\n",
    "    elif same_dir <10:\n",
    "        new_x = x + dir_x\n",
    "        new_y = y + dir_y\n",
    "        if 0 <= new_x < R and 0 <= new_y < C:\n",
    "            to_add = data[new_x][new_y]\n",
    "            heapq.heappush(start,[cost + to_add, (new_x, new_y), (dir_x, dir_y), same_dir+1])\n",
    "        for new_dir_x, new_dir_y in [(-dir_y, dir_x), (dir_y, -dir_x)]:\n",
    "            new_x = x + new_dir_x\n",
    "            new_y = y + new_dir_y\n",
    "            if 0 <= new_x < R and 0 <= new_y < C:\n",
    "                to_add = data[new_x][new_y]\n",
    "                heapq.heappush(start,[cost + to_add, (new_x, new_y), (new_dir_x, new_dir_y), 1])\n",
    "    elif same_dir == 10:\n",
    "        for new_dir_x, new_dir_y in [(-dir_y, dir_x), (dir_y, -dir_x)]:\n",
    "            new_x = x + new_dir_x\n",
    "            new_y = y + new_dir_y\n",
    "            if 0 <= new_x < R and 0 <= new_y < C:\n",
    "                to_add = data[new_x][new_y]\n",
    "                heapq.heappush(start,[cost + to_add, (new_x, new_y), (new_dir_x, new_dir_y), 1])\n"
   ]
  }
 ],
 "metadata": {
  "kernelspec": {
   "display_name": "Python 3",
   "language": "python",
   "name": "python3"
  },
  "language_info": {
   "codemirror_mode": {
    "name": "ipython",
    "version": 3
   },
   "file_extension": ".py",
   "mimetype": "text/x-python",
   "name": "python",
   "nbconvert_exporter": "python",
   "pygments_lexer": "ipython3",
   "version": "3.10.11"
  }
 },
 "nbformat": 4,
 "nbformat_minor": 2
}
