{
 "cells": [
  {
   "cell_type": "code",
   "execution_count": 166,
   "metadata": {},
   "outputs": [
    {
     "name": "stdout",
     "output_type": "stream",
     "text": [
      "Result part1: 484023871\n",
      "Result part2 46294175\n"
     ]
    }
   ],
   "source": [
    "maps = {}\n",
    "for line in open(\"data.txt\"):\n",
    "    line = line.strip()\n",
    "    if line.startswith(\"seeds:\"):\n",
    "        _, starts = line.split(\":\")\n",
    "        starts = [int(x) for x in starts.split()]\n",
    "    \n",
    "    elif \":\" in line:\n",
    "        n, _ = line.split()\n",
    "        n1= n.split('-')[0]\n",
    "        n2= n.split('-')[2]\n",
    "        temp = n1+ \"_\" +n2\n",
    "        maps[temp] = []\n",
    "    else:\n",
    "        if len(line) != 0:\n",
    "            maps[temp].append([int(x)for x in line.split()])\n",
    "\n",
    "# Ranges for part 2\n",
    "ranges = []\n",
    "for i in range(0,len(starts),2):\n",
    "    ranges.append((starts[i], starts[i]+starts[i+1]))\n",
    "\n",
    "st = \"seed\"\n",
    "for _ in range(len(maps)):\n",
    "    new_start = []\n",
    "    key = [key for key in maps.keys() if key.startswith(st)][0]\n",
    "    new_st = key.split(\"_\")[1]\n",
    "    for seed in starts:\n",
    "        flag = True\n",
    "        for ln in maps[key]:\n",
    "\n",
    "            if ln[1] <= seed < ln[1]+ln[2]:\n",
    "                flag = False\n",
    "                new_start.append(ln[0]+(seed-ln[1]))\n",
    "        if flag:\n",
    "            new_start.append(seed)\n",
    "\n",
    "    starts = new_start\n",
    "    st = new_st\n",
    "\n",
    "print(\"Result part1:\",min(starts))\n",
    "\n",
    "#for num in range(46294175,46294176): #REPLACE WITH THIS IF YOU DON'T WANT TO WAIT 4 EVER\n",
    "for num in range(0,100_000_000):\n",
    "    st = \"location\"\n",
    "    mappings = []\n",
    "    number = num\n",
    "    for _ in range(len(maps)):\n",
    "\n",
    "        key = [key for key in maps.keys() if key.endswith(st)][0]\n",
    "        new_st = key.split(\"_\")[0]\n",
    "\n",
    "        flag = True\n",
    "        for ln in maps[key]:\n",
    "            if ln[0] <= number < ln[0]+ln[2]:\n",
    "                flag = False\n",
    "                mappings.append(ln[1]+(number-ln[0]))\n",
    "        if flag:\n",
    "            mappings.append(number)\n",
    "        st = new_st\n",
    "        number = mappings[-1]\n",
    "\n",
    "    flag2 = False\n",
    "    for x, y in ranges:\n",
    "        if x <= number <y:\n",
    "            print(\"Result part2\", num)\n",
    "            flag2 = True\n",
    "            break\n",
    "    if flag2:\n",
    "        break"
   ]
  }
 ],
 "metadata": {
  "kernelspec": {
   "display_name": "Python 3",
   "language": "python",
   "name": "python3"
  },
  "language_info": {
   "codemirror_mode": {
    "name": "ipython",
    "version": 3
   },
   "file_extension": ".py",
   "mimetype": "text/x-python",
   "name": "python",
   "nbconvert_exporter": "python",
   "pygments_lexer": "ipython3",
   "version": "3.10.11"
  }
 },
 "nbformat": 4,
 "nbformat_minor": 2
}
