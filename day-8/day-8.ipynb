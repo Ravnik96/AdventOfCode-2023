{
 "cells": [
  {
   "cell_type": "code",
   "execution_count": 142,
   "metadata": {},
   "outputs": [
    {
     "name": "stdout",
     "output_type": "stream",
     "text": [
      "Part 1: 15871\n",
      "Part 2: 11283670395017\n"
     ]
    }
   ],
   "source": [
    "from math import lcm\n",
    "\n",
    "dct = {}\n",
    "for line in open(\"data.txt\"):\n",
    "    line = line.strip()\n",
    "    if len(line) != 0 and \"=\" not in line:\n",
    "        dir = line\n",
    "    elif len(line) != 0:\n",
    "        key, val = line.split(\" =\")\n",
    "        val = val.replace(\" (\", \"\").replace(\")\", \"\")\n",
    "        dct[key] = val.split(\", \")\n",
    "\n",
    "# Part 1\n",
    "start = \"AAA\"\n",
    "counter = 0\n",
    "for i in range(100000):\n",
    "    d = dir[i%len(dir)]\n",
    "    counter += 1\n",
    "\n",
    "    if d == \"L\":\n",
    "        start = dct[start][0]\n",
    "    elif d == \"R\":\n",
    "        start = dct[start][1]\n",
    "    if start ==\"ZZZ\":\n",
    "        print(\"Part 1:\",counter)\n",
    "        break\n",
    "\n",
    "\n",
    "# Part 2\n",
    "starting_points = []\n",
    "for key in dct:\n",
    "    if key[-1] == \"A\":\n",
    "        starting_points.append(key)\n",
    "\n",
    "distances = []\n",
    "for start in starting_points:\n",
    "    counter = 0\n",
    "    for i in range(100000):\n",
    "        d = dir[i%len(dir)]\n",
    "        counter += 1\n",
    "\n",
    "        if d == \"L\":\n",
    "            start = dct[start][0]\n",
    "        elif d == \"R\":\n",
    "            start = dct[start][1]\n",
    "\n",
    "        if start[-1] ==\"Z\":\n",
    "            distances.append(counter)\n",
    "            break\n",
    "        \n",
    "print(\"Part 2:\",lcm(*distances) )  "
   ]
  }
 ],
 "metadata": {
  "kernelspec": {
   "display_name": "Python 3",
   "language": "python",
   "name": "python3"
  },
  "language_info": {
   "codemirror_mode": {
    "name": "ipython",
    "version": 3
   },
   "file_extension": ".py",
   "mimetype": "text/x-python",
   "name": "python",
   "nbconvert_exporter": "python",
   "pygments_lexer": "ipython3",
   "version": "3.10.11"
  }
 },
 "nbformat": 4,
 "nbformat_minor": 2
}
