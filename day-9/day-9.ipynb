{
 "cells": [
  {
   "cell_type": "code",
   "execution_count": 68,
   "metadata": {},
   "outputs": [
    {
     "name": "stdout",
     "output_type": "stream",
     "text": [
      "Score part 1: 1641934234 Score part 2: 975\n"
     ]
    }
   ],
   "source": [
    "data = []\n",
    "\n",
    "for line in open(\"data.txt\"):\n",
    "    data.append([int(x) for x in line.strip().split()])\n",
    "\n",
    "def scorer(lst, p1):\n",
    "    lst_out = []\n",
    "    if p1:\n",
    "        idx = -1\n",
    "        lst_out.append(lst[idx])\n",
    "    else:\n",
    "        idx = 0\n",
    "        lst_out.append(lst[idx])\n",
    "    while True:\n",
    "        temp = []\n",
    "        for num in range(len(lst)-1):\n",
    "            temp.append(lst[num+1] - lst[num])\n",
    "        lst_out.append(temp[idx])\n",
    "        lst = temp\n",
    "        if not any(temp):\n",
    "            break\n",
    "\n",
    "    if p1:\n",
    "        for l in range(len(lst_out)-1, 0, -1):\n",
    "            lst_out[l-1] = lst_out[l] + lst_out[l-1]\n",
    "    else:\n",
    "        for l in range(len(lst_out)-1, 0, -1):\n",
    "            lst_out[l-1] =  lst_out[l-1] -lst_out[l]\n",
    "    return lst_out[0]\n",
    "\n",
    "score_part1 = 0\n",
    "score_part2 = 0\n",
    "\n",
    "for seq in data:\n",
    "    score_part1 += scorer(seq, p1=True)\n",
    "    score_part2 += scorer(seq, p1=False)\n",
    "print(\"Score part 1:\", score_part1,\"Score part 2:\", score_part2)"
   ]
  }
 ],
 "metadata": {
  "kernelspec": {
   "display_name": "Python 3",
   "language": "python",
   "name": "python3"
  },
  "language_info": {
   "codemirror_mode": {
    "name": "ipython",
    "version": 3
   },
   "file_extension": ".py",
   "mimetype": "text/x-python",
   "name": "python",
   "nbconvert_exporter": "python",
   "pygments_lexer": "ipython3",
   "version": "3.10.11"
  }
 },
 "nbformat": 4,
 "nbformat_minor": 2
}
