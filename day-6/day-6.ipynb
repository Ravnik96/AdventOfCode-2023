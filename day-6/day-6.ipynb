{
 "cells": [
  {
   "cell_type": "code",
   "execution_count": 18,
   "metadata": {},
   "outputs": [
    {
     "name": "stdout",
     "output_type": "stream",
     "text": [
      "Results part1: 345015 Results part 2: 42588603\n"
     ]
    }
   ],
   "source": [
    "part1 = [(60, 475), (94, 2138), (78, 1015), (82, 1650)]\n",
    "part2 = [(60947882, 475213810151650)]\n",
    "\n",
    "def boat_racer(data):    \n",
    "    counter = 1\n",
    "    for time, dist in data:\n",
    "        c= 0\n",
    "        for dur in range(time):\n",
    "            score = (time - dur) * dur\n",
    "            if score > dist:\n",
    "                c+= 1\n",
    "        counter *= c\n",
    "\n",
    "    return counter\n",
    "\n",
    "print(\"Results part1:\", boat_racer(part1), \"Results part 2:\", boat_racer(part2))"
   ]
  }
 ],
 "metadata": {
  "kernelspec": {
   "display_name": "Python 3",
   "language": "python",
   "name": "python3"
  },
  "language_info": {
   "codemirror_mode": {
    "name": "ipython",
    "version": 3
   },
   "file_extension": ".py",
   "mimetype": "text/x-python",
   "name": "python",
   "nbconvert_exporter": "python",
   "pygments_lexer": "ipython3",
   "version": "3.10.11"
  }
 },
 "nbformat": 4,
 "nbformat_minor": 2
}
