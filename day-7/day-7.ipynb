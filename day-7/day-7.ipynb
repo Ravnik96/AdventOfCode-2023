{
 "cells": [
  {
   "cell_type": "code",
   "execution_count": 26,
   "metadata": {},
   "outputs": [
    {
     "name": "stdout",
     "output_type": "stream",
     "text": [
      "Score part 1: 246163188\n"
     ]
    }
   ],
   "source": [
    "# Part 1\n",
    "from collections import Counter\n",
    "\n",
    "\n",
    "rank = [\"A\", \"K\", \"Q\", \"J\", \"T\", \"9\", \"8\", \"7\", \"6\", \"5\", \"4\", \"3\", \"2\"]\n",
    "rank = {k:v for k, v in zip(rank, range(len(rank),-1,-1))}\n",
    "\n",
    "def card_eval(hand):\n",
    "    score = Counter(hand)\n",
    "    if len(score) == 1:\n",
    "        result = 6\n",
    "    elif 4 in score.values():\n",
    "        result = 5\n",
    "    elif 3 in score.values() and 2 in score.values():\n",
    "        result = 4\n",
    "    elif 3 in score.values() :\n",
    "        result = 3\n",
    "    elif [1,2,2] == sorted(list(score.values())):\n",
    "        result = 2\n",
    "    elif 2 in score.values():\n",
    "        result = 1\n",
    "    else:\n",
    "        result = 0\n",
    "    \n",
    "    return result\n",
    "cards = []\n",
    "for line in open(\"data.txt\"):\n",
    "    card, num = line.strip().split()\n",
    "    cards.append([[rank[x] for x in card], int(num), 0])\n",
    "\n",
    "for card in cards:\n",
    "    card[2] = card_eval(card[0])\n",
    "\n",
    "cards.sort(key=lambda x: (x[2], x[0][0], x[0][1],x[0][2],x[0][3],x[0][4]))\n",
    "\n",
    "score_part1 = 0\n",
    "for i, j in enumerate(cards):\n",
    "    score_part1 += ((i+1)*j[1])\n",
    "\n",
    "print(\"Score part 1:\",score_part1)"
   ]
  },
  {
   "cell_type": "code",
   "execution_count": 24,
   "metadata": {},
   "outputs": [
    {
     "name": "stdout",
     "output_type": "stream",
     "text": [
      "Score part 2: 245794069\n"
     ]
    }
   ],
   "source": [
    "# Part 2\n",
    "from itertools import product\n",
    "\n",
    "rank_part2 = [\"A\", \"K\", \"Q\", \"T\", \"9\", \"8\", \"7\", \"6\", \"5\", \"4\", \"3\", \"2\", \"J\"]\n",
    "\n",
    "rank_part2 = {k:v for k, v in zip(rank_part2, range(len(rank_part2),-1,-1))}\n",
    "\n",
    "\n",
    "def replacer(string, options):\n",
    "    ln = Counter(string)[\"J\"]\n",
    "    loc = [i for i, j in enumerate(string) if j == \"J\"]\n",
    "    res = product(options, repeat=ln)\n",
    "    result_out = []\n",
    "    for r in res:\n",
    "        temp = [x for x in string]\n",
    "        for i in range(ln):\n",
    "            temp[loc[i]] = r[i]\n",
    "            result_out.append(''.join(temp))\n",
    "\n",
    "    return result_out\n",
    "\n",
    "cards = []\n",
    "for line in open(\"data.txt\"):\n",
    "    card, num = line.strip().split()\n",
    "    cards.append([card, int(num), 0])\n",
    "\n",
    "for card in cards:\n",
    "    if \"J\"in card[0]:\n",
    "        options = replacer(card[0], rank_part2.keys())\n",
    "        highest = 0\n",
    "        for op in options:\n",
    "            inter_score = card_eval(op)\n",
    "\n",
    "            if inter_score > highest:\n",
    "                highest = inter_score\n",
    "        \n",
    "        card[2] = highest\n",
    "    else:\n",
    "        card[2] = card_eval(card[0])\n",
    "\n",
    "for i in range(len(cards)):\n",
    "    cards[i][0] = [rank_part2[x] for x in cards[i][0]]\n",
    "\n",
    "cards.sort(key=lambda x: (x[2], x[0][0], x[0][1],x[0][2],x[0][3],x[0][4]))\n",
    "\n",
    "score_part2 = 0\n",
    "for i, j in enumerate(cards):\n",
    "    score_part2 += ((i+1)*j[1])\n",
    "\n",
    "print(\"Score part 2:\",score_part2)"
   ]
  }
 ],
 "metadata": {
  "kernelspec": {
   "display_name": "Python 3",
   "language": "python",
   "name": "python3"
  },
  "language_info": {
   "codemirror_mode": {
    "name": "ipython",
    "version": 3
   },
   "file_extension": ".py",
   "mimetype": "text/x-python",
   "name": "python",
   "nbconvert_exporter": "python",
   "pygments_lexer": "ipython3",
   "version": "3.10.11"
  }
 },
 "nbformat": 4,
 "nbformat_minor": 2
}
