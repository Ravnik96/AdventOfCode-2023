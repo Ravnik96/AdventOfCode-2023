{
 "cells": [
  {
   "cell_type": "code",
   "execution_count": 1,
   "metadata": {},
   "outputs": [
    {
     "name": "stdout",
     "output_type": "stream",
     "text": [
      "Result part 1 514969\n",
      "Result part 2 78915902\n"
     ]
    }
   ],
   "source": [
    "from collections import defaultdict\n",
    "\n",
    "data = []\n",
    "res = {}\n",
    "for idx, line in enumerate(open(\"data.txt\")):\n",
    "    line = line.strip()\n",
    "\n",
    "    temp = [i for i in line]\n",
    "    data.append(temp)\n",
    "\n",
    "    numb = \"\"\n",
    "    locations = []\n",
    "    for idy, let in enumerate(line):\n",
    "        if let.isdigit():\n",
    "            numb += let\n",
    "            locations.append((idx,idy))\n",
    "            if len(line)-1==idy:\n",
    "                res[numb+'_'+str(idx)+\"_\"+str(idy)] = locations\n",
    "        elif len(numb) != 0:\n",
    "            res[numb+'_'+str(idx)+\"_\"+str(idy)] = locations\n",
    "            numb = \"\"\n",
    "            locations = []\n",
    "\n",
    "R = len(data)\n",
    "C = len(data[0])\n",
    "score_part1 = 0\n",
    "for key, vals in res.items():\n",
    "    for val in vals:\n",
    "        flag = False\n",
    "        for dx, dy in [(-1,-1),(-1,0),(-1,1),(0,1),(0,-1),(1,-1),(1,0),(1,1)]:\n",
    "            n_dx = val[0] + dx\n",
    "            n_dy = val[1] + dy\n",
    "            if 0 <= n_dx < R and  0 <= n_dy < C and not data[n_dx][n_dy].isdigit() and data[n_dx][n_dy] != '.':\n",
    "                flag = True\n",
    "                score_part1 += int(key.split(\"_\")[0])\n",
    "                break\n",
    "        if flag:\n",
    "            break\n",
    "print(\"Result part 1\",score_part1)\n",
    "\n",
    "## PART 2\n",
    "tracker = defaultdict(list)\n",
    "for key, vals in res.items():\n",
    "    for val in vals:\n",
    "        for dx, dy in [(-1,-1),(-1,0),(-1,1),(0,1),(0,-1),(1,-1),(1,0),(1,1)]:\n",
    "            n_dx = val[0] + dx\n",
    "            n_dy = val[1] + dy\n",
    "            if 0 <= n_dx < R and  0 <= n_dy < C and data[n_dx][n_dy] == '*':\n",
    "                tracker[str(n_dx)+ \"_\" +str(n_dy)].append(int(key.split(\"_\")[0]))\n",
    "\n",
    "score_part2 = 0\n",
    "for k, v in tracker.items():\n",
    "    v = list(set(v))\n",
    "    if len(v) == 2:\n",
    "        score_part2 += v[0]*v[1]\n",
    "print(\"Result part 2\",score_part2)"
   ]
  }
 ],
 "metadata": {
  "kernelspec": {
   "display_name": "Python 3",
   "language": "python",
   "name": "python3"
  },
  "language_info": {
   "codemirror_mode": {
    "name": "ipython",
    "version": 3
   },
   "file_extension": ".py",
   "mimetype": "text/x-python",
   "name": "python",
   "nbconvert_exporter": "python",
   "pygments_lexer": "ipython3",
   "version": "3.10.11"
  }
 },
 "nbformat": 4,
 "nbformat_minor": 2
}
