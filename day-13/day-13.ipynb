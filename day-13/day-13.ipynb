{
 "cells": [
  {
   "cell_type": "code",
   "execution_count": 24,
   "metadata": {},
   "outputs": [
    {
     "name": "stdout",
     "output_type": "stream",
     "text": [
      "Result part1: 41859 Result part2: 30842\n"
     ]
    }
   ],
   "source": [
    "import numpy as np\n",
    "\n",
    "data = []\n",
    "temp = []\n",
    "for line in open(\"data.txt\"):\n",
    "    line = line.strip()\n",
    "    if len(line) != 0:\n",
    "        line = [x for x in line]\n",
    "        temp.append(line)\n",
    "    else:\n",
    "        data.append(temp)\n",
    "        temp = []\n",
    "if len(temp) != 0:\n",
    "    data.append(temp)\n",
    "\n",
    "def mirror_mirror_on_the_wall(map, goal):\n",
    "    result = -1\n",
    "    for i in range(len(map)-1):\n",
    "        x = i\n",
    "        y = i+1\n",
    "        mirror = True\n",
    "        sc_miss = 0\n",
    "        while 0 <= x < len(map) and 0 <= y < len(map):\n",
    "            if map[x] == map[y]:\n",
    "                x-=1\n",
    "                y+=1\n",
    "                continue\n",
    "            else:\n",
    "                for xi, yi in zip(map[x], map[y]):\n",
    "                    if xi != yi:\n",
    "                        sc_miss += 1\n",
    "                x-=1\n",
    "                y+=1\n",
    "            if sc_miss > goal:\n",
    "                mirror = False\n",
    "                break\n",
    "        if mirror and sc_miss == goal:\n",
    "            result = i+1\n",
    "            break\n",
    "    return result\n",
    "\n",
    "def solve(data, part2):\n",
    "    goal = 1 if part2 else 0\n",
    "    final_score = 0\n",
    "    for map in data:\n",
    "        row_result = mirror_mirror_on_the_wall(map=map, goal=goal)\n",
    "        if row_result != -1:\n",
    "            final_score += row_result*100\n",
    "        else:\n",
    "            map_t = np.array(map).T.tolist()\n",
    "            col_result = mirror_mirror_on_the_wall(map=map_t, goal=goal)\n",
    "            if col_result != -1:\n",
    "                final_score += col_result\n",
    "    return final_score\n",
    "\n",
    "print(\"Result part1:\",solve(data,part2=False),\"Result part2:\", solve(data,part2=True))"
   ]
  }
 ],
 "metadata": {
  "kernelspec": {
   "display_name": "Python 3",
   "language": "python",
   "name": "python3"
  },
  "language_info": {
   "codemirror_mode": {
    "name": "ipython",
    "version": 3
   },
   "file_extension": ".py",
   "mimetype": "text/x-python",
   "name": "python",
   "nbconvert_exporter": "python",
   "pygments_lexer": "ipython3",
   "version": "3.10.11"
  }
 },
 "nbformat": 4,
 "nbformat_minor": 2
}
