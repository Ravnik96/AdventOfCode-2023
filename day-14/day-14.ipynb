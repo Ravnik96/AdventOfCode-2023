{
 "cells": [
  {
   "cell_type": "code",
   "execution_count": 210,
   "metadata": {},
   "outputs": [
    {
     "name": "stdout",
     "output_type": "stream",
     "text": [
      "Result part 1: 109424\n",
      "Result part 2: 102509\n"
     ]
    }
   ],
   "source": [
    "import numpy as np\n",
    "\n",
    "data = []\n",
    "for line in open(\"data.txt\"):\n",
    "    line = line.strip()\n",
    "    data.append([x for x in line])\n",
    "\n",
    "def shaker(data):\n",
    "    new = [[\".\" for _ in range(len(data[0]))] for _ in range(len(data))]\n",
    "\n",
    "    for y in range(len(data[0])):\n",
    "        start = (0, y)\n",
    "        for x in range(len(data)):\n",
    "            if data[x][y] == \"O\":\n",
    "                new[start[0]][start[1]] = \"O\"\n",
    "                start = (start[0]+1, start[1])\n",
    "            elif data[x][y] == \"#\":\n",
    "                new[x][y] = \"#\"\n",
    "                start = (x+1, y)\n",
    "\n",
    "    return new \n",
    "\n",
    "def eval(data):\n",
    "    score = 0\n",
    "    for ix,i in enumerate(data):\n",
    "        for j in i:\n",
    "            if j ==\"O\":\n",
    "                score += len(data)-ix\n",
    "    return(score)\n",
    "\n",
    "# PART 1\n",
    "data_part1 = shaker(data)\n",
    "print(\"Result part 1:\",eval(data_part1))\n",
    "\n",
    "# Part 2\n",
    "seen = {}\n",
    "loops = 1000000000\n",
    "i=0\n",
    "while i < loops:\n",
    "    i += 1\n",
    "    \n",
    "    ## Rotations\n",
    "    data = shaker(data)\n",
    "\n",
    "    data = np.array(data).T.tolist()\n",
    "    data = shaker(data)\n",
    "\n",
    "    data = np.array(data).T.tolist()\n",
    "    data.reverse()\n",
    "    data = shaker(data)\n",
    "\n",
    "    data = np.array(data).T.tolist()\n",
    "    data.reverse()\n",
    "    data = shaker(data)\n",
    "\n",
    "    data.reverse()\n",
    "    data = np.array(data).T.tolist()\n",
    "    data.reverse()\n",
    "    ## \n",
    "\n",
    "    key = tuple(tuple(x) for x in data)\n",
    "    if key in seen:\n",
    "        last = seen[key]\n",
    "        cycle = i-last\n",
    "        added = (loops-i)//cycle\n",
    "        i += added * cycle\n",
    "    seen[key] = i \n",
    "\n",
    "print(\"Result part 2:\",eval(data))"
   ]
  }
 ],
 "metadata": {
  "kernelspec": {
   "display_name": "Python 3",
   "language": "python",
   "name": "python3"
  },
  "language_info": {
   "codemirror_mode": {
    "name": "ipython",
    "version": 3
   },
   "file_extension": ".py",
   "mimetype": "text/x-python",
   "name": "python",
   "nbconvert_exporter": "python",
   "pygments_lexer": "ipython3",
   "version": "3.10.11"
  }
 },
 "nbformat": 4,
 "nbformat_minor": 2
}
